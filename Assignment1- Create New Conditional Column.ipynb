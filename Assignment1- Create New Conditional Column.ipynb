{
 "cells": [
  {
   "cell_type": "code",
   "execution_count": 2,
   "id": "1e059230",
   "metadata": {},
   "outputs": [
    {
     "name": "stdout",
     "output_type": "stream",
     "text": [
      "   sales  profit       ship_mode  surcharge  total_cost\n",
      "0    100      20        Same Day       0.20        96.0\n",
      "1    200      30     First Class       0.10       187.0\n",
      "2    300      40  Standard Class       0.05       273.0\n",
      "3    400      50    Second Class       0.00       350.0\n"
     ]
    }
   ],
   "source": [
    "import pandas as pd\n",
    "\n",
    "# Sample data\n",
    "data = {\n",
    "    'sales': [100, 200, 300, 400],\n",
    "    'profit': [20, 30, 40, 50],\n",
    "    'ship_mode': ['Same Day', 'First Class', 'Standard Class', 'Second Class']\n",
    "}\n",
    "\n",
    "# Create a DataFrame\n",
    "df = pd.DataFrame(data)\n",
    "\n",
    "# Define a function to calculate surcharge based on ship_mode\n",
    "def calculate_surcharge(ship_mode):\n",
    "    if ship_mode == \"Same Day\":\n",
    "        return 0.2\n",
    "    elif ship_mode == \"First Class\":\n",
    "        return 0.1\n",
    "    elif ship_mode == \"Standard Class\":\n",
    "        return 0.05\n",
    "    else:\n",
    "        return 0\n",
    "\n",
    "# Apply the function to create a new conditional column 'surcharge'\n",
    "df['surcharge'] = df['ship_mode'].apply(calculate_surcharge)\n",
    "\n",
    "# Calculate total cost using the provided formula\n",
    "df['total_cost'] = (df['sales'] - df['profit']) * (1 + df['surcharge'])\n",
    "\n",
    "# Print the updated DataFrame\n",
    "print(df)\n"
   ]
  },
  {
   "cell_type": "code",
   "execution_count": null,
   "id": "d75908bd",
   "metadata": {},
   "outputs": [],
   "source": []
  }
 ],
 "metadata": {
  "kernelspec": {
   "display_name": "Python 3 (ipykernel)",
   "language": "python",
   "name": "python3"
  },
  "language_info": {
   "codemirror_mode": {
    "name": "ipython",
    "version": 3
   },
   "file_extension": ".py",
   "mimetype": "text/x-python",
   "name": "python",
   "nbconvert_exporter": "python",
   "pygments_lexer": "ipython3",
   "version": "3.11.3"
  }
 },
 "nbformat": 4,
 "nbformat_minor": 5
}
